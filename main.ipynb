{
 "cells": [
  {
   "cell_type": "code",
   "execution_count": 2,
   "id": "c77d9ebf",
   "metadata": {},
   "outputs": [],
   "source": [
    "from image_process_module import ImageProcess\n",
    "import cv2\n",
    "import numpy as np\n"
   ]
  },
  {
   "cell_type": "code",
   "execution_count": 3,
   "id": "a5671830",
   "metadata": {},
   "outputs": [],
   "source": [
    "img_path = \"images/wbc125.jpg\"\n",
    "\n",
    "image = cv2.imread(img_path)\n",
    "\n",
    "img_process = ImageProcess()"
   ]
  },
  {
   "cell_type": "code",
   "execution_count": 3,
   "id": "76d46b92",
   "metadata": {},
   "outputs": [],
   "source": [
    "gray_img = img_process.convert_to_gray(image)\n",
    "img_process.show_image(image=gray_img)"
   ]
  },
  {
   "cell_type": "code",
   "execution_count": 4,
   "id": "37cf1eaf",
   "metadata": {},
   "outputs": [],
   "source": [
    "clahe_img = img_process.clahe(gray_img)\n",
    "img_process.show_image(image=clahe_img)"
   ]
  },
  {
   "cell_type": "code",
   "execution_count": 5,
   "id": "825e1ba2",
   "metadata": {},
   "outputs": [],
   "source": [
    "binary_img = img_process.apply_threshold(image=clahe_img)\n",
    "img_process.show_image(image=binary_img)"
   ]
  },
  {
   "cell_type": "code",
   "execution_count": 4,
   "id": "20cc4eae",
   "metadata": {},
   "outputs": [],
   "source": [
    "contours = img_process.extract_contour(image=image)\n",
    "contours = img_process.filter_contours(min_area=40, contours=contours)\n"
   ]
  },
  {
   "cell_type": "code",
   "execution_count": 5,
   "id": "0223b95d",
   "metadata": {},
   "outputs": [],
   "source": [
    "img_process.draw_contour(image=image, contours=contours)"
   ]
  },
  {
   "cell_type": "code",
   "execution_count": 7,
   "id": "149ab625",
   "metadata": {},
   "outputs": [],
   "source": [
    "bounding_boxes = img_process.get_bounding_boxes(contours=contours)\n",
    "bounding_boxes = img_process.filter_bounding_box(bounding_boxes=bounding_boxes, min_w=20, min_h=20)\n",
    "img_process.draw_bounding_boxes(image=image, bounding_boxes=bounding_boxes)"
   ]
  }
 ],
 "metadata": {
  "kernelspec": {
   "display_name": "pnahlab_env1",
   "language": "python",
   "name": "python3"
  },
  "language_info": {
   "codemirror_mode": {
    "name": "ipython",
    "version": 3
   },
   "file_extension": ".py",
   "mimetype": "text/x-python",
   "name": "python",
   "nbconvert_exporter": "python",
   "pygments_lexer": "ipython3",
   "version": "3.7.12"
  }
 },
 "nbformat": 4,
 "nbformat_minor": 5
}
